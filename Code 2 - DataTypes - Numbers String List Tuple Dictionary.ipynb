{
 "cells": [
  {
   "cell_type": "markdown",
   "metadata": {},
   "source": [
    "# DataType"
   ]
  },
  {
   "cell_type": "code",
   "execution_count": 1,
   "metadata": {},
   "outputs": [
    {
     "name": "stdout",
     "output_type": "stream",
     "text": [
      "<type 'int'>\n",
      "<type 'str'>\n",
      "<type 'float'>\n"
     ]
    }
   ],
   "source": [
    "A=10  \n",
    "b=\"Hi Python\"  \n",
    "c = 10.5  \n",
    "\n",
    "print(type(A))   \n",
    "print(type(b))   \n",
    "print(type(c))   "
   ]
  },
  {
   "cell_type": "markdown",
   "metadata": {},
   "source": [
    "# String"
   ]
  },
  {
   "cell_type": "code",
   "execution_count": 2,
   "metadata": {},
   "outputs": [
    {
     "name": "stdout",
     "output_type": "stream",
     "text": [
      "he\n",
      "W\n",
      "hello World hello World \n",
      "hello World hello World \n"
     ]
    }
   ],
   "source": [
    "str1 = 'hello World ' #string str1  \n",
    "str2 = ' how are you' #string str2  \n",
    "print (str1[0:2]) #printing first two character using slice operator  \n",
    "print (str1[6]) #printing 7th character of the string  (starting from 0 index ,including space )\n",
    "print (str1*2) #printing the string twice  \n",
    "print (str1 + str1) #printing the concatenation of str1 and str2  \n",
    "\n"
   ]
  },
  {
   "cell_type": "markdown",
   "metadata": {},
   "source": [
    "# List"
   ]
  },
  {
   "cell_type": "code",
   "execution_count": 4,
   "metadata": {},
   "outputs": [
    {
     "name": "stdout",
     "output_type": "stream",
     "text": [
      "['python', 2]\n",
      "[1, 'hi']\n",
      "[1, 'hi', 'python', 2]\n",
      "[1, 'hi', 'python', 2, 1, 'hi', 'python', 2]\n",
      "[1, 'hi', 'python', 2, 1, 'hi', 'python', 2]\n"
     ]
    }
   ],
   "source": [
    "list  = [1, \"hi\", \"python\", 2]  \n",
    "print (list[2:]);  \n",
    "print (list[0:2]);  \n",
    "print (list);  \n",
    "print (list + list);  \n",
    "print (list * 2);   \n",
    "\n"
   ]
  },
  {
   "cell_type": "markdown",
   "metadata": {},
   "source": [
    "# Tuple "
   ]
  },
  {
   "cell_type": "code",
   "execution_count": 7,
   "metadata": {},
   "outputs": [],
   "source": [
    "tuple =('Hello',1009,60.4,'World')\n",
    "tuple1 = ('Python', 10)"
   ]
  },
  {
   "cell_type": "code",
   "execution_count": 8,
   "metadata": {},
   "outputs": [
    {
     "data": {
      "text/plain": [
       "('Hello', 1009, 60.4, 'World')"
      ]
     },
     "execution_count": 8,
     "metadata": {},
     "output_type": "execute_result"
    }
   ],
   "source": [
    "tuple"
   ]
  },
  {
   "cell_type": "code",
   "execution_count": 9,
   "metadata": {},
   "outputs": [
    {
     "data": {
      "text/plain": [
       "('Python', 10)"
      ]
     },
     "execution_count": 9,
     "metadata": {},
     "output_type": "execute_result"
    }
   ],
   "source": [
    "tuple1"
   ]
  },
  {
   "cell_type": "code",
   "execution_count": 10,
   "metadata": {},
   "outputs": [
    {
     "data": {
      "text/plain": [
       "('Hello', 1009, 60.4, 'World', 'Python', 10)"
      ]
     },
     "execution_count": 10,
     "metadata": {},
     "output_type": "execute_result"
    }
   ],
   "source": [
    "tuple+tuple1"
   ]
  },
  {
   "cell_type": "code",
   "execution_count": 12,
   "metadata": {},
   "outputs": [
    {
     "name": "stdout",
     "output_type": "stream",
     "text": [
      "(1009, 60.4, 'World')\n",
      "(60.4, 'World')\n",
      "('World',)\n",
      "('Hello', 1009)\n",
      "Hello\n"
     ]
    }
   ],
   "source": [
    "print(tuple[1:])\n",
    "print(tuple[2:])\n",
    "print(tuple[3:])\n",
    "print(tuple[:2])\n",
    "print(tuple[0])\n",
    "\n"
   ]
  },
  {
   "cell_type": "code",
   "execution_count": 13,
   "metadata": {},
   "outputs": [
    {
     "name": "stdout",
     "output_type": "stream",
     "text": [
      "('Hello', 1009, 60.4, 'World', 'Hello', 1009, 60.4, 'World')\n"
     ]
    }
   ],
   "source": [
    "tuple =('Hello',1009,60.4,'World')\n",
    "print(tuple*2)"
   ]
  },
  {
   "cell_type": "code",
   "execution_count": 14,
   "metadata": {},
   "outputs": [
    {
     "ename": "TypeError",
     "evalue": "'tuple' object does not support item assignment",
     "output_type": "error",
     "traceback": [
      "\u001b[1;31m\u001b[0m",
      "\u001b[1;31mTypeError\u001b[0mTraceback (most recent call last)",
      "\u001b[1;32m<ipython-input-14-406582e37c79>\u001b[0m in \u001b[0;36m<module>\u001b[1;34m()\u001b[0m\n\u001b[1;32m----> 1\u001b[1;33m \u001b[0mtuple\u001b[0m\u001b[1;33m[\u001b[0m\u001b[1;36m2\u001b[0m\u001b[1;33m]\u001b[0m\u001b[1;33m=\u001b[0m\u001b[1;36m20\u001b[0m\u001b[1;33m\u001b[0m\u001b[0m\n\u001b[0m",
      "\u001b[1;31mTypeError\u001b[0m: 'tuple' object does not support item assignment"
     ]
    }
   ],
   "source": [
    "tuple[2]=20tuple[1]='hi'\n",
    "\n"
   ]
  },
  {
   "cell_type": "markdown",
   "metadata": {},
   "source": [
    "# Dictionary"
   ]
  },
  {
   "cell_type": "code",
   "execution_count": 13,
   "metadata": {},
   "outputs": [
    {
     "name": "stdout",
     "output_type": "stream",
     "text": [
      "{'Dept': 'CS', 'Name': 'Tina', 'ID': 100}\n",
      "['Dept', 'Name', 'ID']\n",
      "['CS', 'Tina', 100]\n"
     ]
    }
   ],
   "source": [
    "dictionary={'Dept':'CS','Name':'Tina','ID':100}  \n",
    "print(dictionary)\n",
    "print(dictionary.keys())\n",
    "print(dictionary.values())"
   ]
  },
  {
   "cell_type": "code",
   "execution_count": 20,
   "metadata": {},
   "outputs": [
    {
     "name": "stdout",
     "output_type": "stream",
     "text": [
      "1st name is Neha\n",
      "2nd name is Lucky\n",
      "{1: 'Neha', 2: 'Lucky', 3: 'Yash', 4: 'Niti'}\n",
      "[1, 2, 3, 4]\n",
      "['Neha', 'Lucky', 'Yash', 'Niti']\n"
     ]
    }
   ],
   "source": [
    "d = {1:'Neha', 2:'Lucky', 3:'Yash', 4:'Niti'};   \n",
    "\n",
    "print(\"1st name is \"+d[1]);\n",
    "\n",
    "print(\"2nd name is \"+ d[2]); \n",
    "\n",
    "print (d);  \n",
    "print (d.keys());  \n",
    "print (d.values());  "
   ]
  }
 ],
 "metadata": {
  "kernelspec": {
   "display_name": "Python 2",
   "language": "python",
   "name": "python2"
  },
  "language_info": {
   "codemirror_mode": {
    "name": "ipython",
    "version": 2
   },
   "file_extension": ".py",
   "mimetype": "text/x-python",
   "name": "python",
   "nbconvert_exporter": "python",
   "pygments_lexer": "ipython2",
   "version": "2.7.16"
  }
 },
 "nbformat": 4,
 "nbformat_minor": 2
}
