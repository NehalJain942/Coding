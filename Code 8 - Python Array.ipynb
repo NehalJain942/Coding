{
 "cells": [
  {
   "cell_type": "markdown",
   "metadata": {},
   "source": [
    "# Array"
   ]
  },
  {
   "cell_type": "code",
   "execution_count": 43,
   "metadata": {},
   "outputs": [
    {
     "name": "stdout",
     "output_type": "stream",
     "text": [
      "Ford\n"
     ]
    }
   ],
   "source": [
    "cars = [\"Ford\", \"Volvo\", \"BMW\"]\n",
    "\n",
    "x = cars[0]\n",
    "\n",
    "print(x)\n"
   ]
  },
  {
   "cell_type": "code",
   "execution_count": 45,
   "metadata": {},
   "outputs": [
    {
     "name": "stdout",
     "output_type": "stream",
     "text": [
      "('First element:', 12)\n",
      "('Second element:', 54)\n",
      "('Second last element:', 81)\n"
     ]
    }
   ],
   "source": [
    "import array as arr  \n",
    "a = arr.array('i', [12,54, 36, 81])  \n",
    "print(\"First element:\", a[0])  \n",
    "print(\"Second element:\", a[1])  \n",
    "print(\"Second last element:\", a[-1])  "
   ]
  },
  {
   "cell_type": "code",
   "execution_count": 46,
   "metadata": {},
   "outputs": [
    {
     "name": "stdout",
     "output_type": "stream",
     "text": [
      "array('i', [0, 2, 3, 5, 7, 10])\n",
      "array('i', [0, 2, 4, 6, 8, 10])\n"
     ]
    }
   ],
   "source": [
    "import array as arr  \n",
    "numbers = arr.array('i', [1, 2, 3, 5, 7, 10])  \n",
    "   \n",
    "# changing first element  \n",
    "numbers[0] = 0     \n",
    "print(numbers)    # Output: array('i', [0, 2, 3, 5, 7, 10])  \n",
    "   \n",
    "# changing 3rd to 5th element  \n",
    "numbers[2:5] = arr.array('i', [4, 6, 8])    \n",
    "print(numbers)    # Output: array('i', [0, 2, 4, 6, 8, 10])  "
   ]
  },
  {
   "cell_type": "code",
   "execution_count": 47,
   "metadata": {},
   "outputs": [
    {
     "name": "stdout",
     "output_type": "stream",
     "text": [
      "array('i', [1, 2, 3, 4])\n"
     ]
    }
   ],
   "source": [
    "import array as arr  \n",
    "\n",
    "number = arr.array('i', [1, 2, 3, 3, 4])  \n",
    "\n",
    "del number[2]                           # removing third element  \n",
    "print(number)                           # Output: array('i', [1, 2, 3, 4])  "
   ]
  },
  {
   "cell_type": "code",
   "execution_count": 49,
   "metadata": {},
   "outputs": [
    {
     "name": "stdout",
     "output_type": "stream",
     "text": [
      "4\n"
     ]
    }
   ],
   "source": [
    "cars = [\"Ford\", \"Volvo\", \"BMW\",\"Audi\"]\n",
    "\n",
    "x = len(cars)\n",
    "\n",
    "print(x)\n"
   ]
  },
  {
   "cell_type": "code",
   "execution_count": 50,
   "metadata": {},
   "outputs": [
    {
     "name": "stdout",
     "output_type": "stream",
     "text": [
      "('Array c = ', array('d', [1.1, 2.1, 3.1, 2.6, 7.8, 3.7, 8.6]))\n"
     ]
    }
   ],
   "source": [
    "a=arr.array('d',[1.1 , 2.1 ,3.1,2.6,7.8])  \n",
    "b=arr.array('d',[3.7,8.6])  \n",
    "c=arr.array('d')  \n",
    "c=a+b  \n",
    "print(\"Array c = \",c)  "
   ]
  },
  {
   "cell_type": "code",
   "execution_count": 51,
   "metadata": {},
   "outputs": [
    {
     "name": "stdout",
     "output_type": "stream",
     "text": [
      "('First element:', 4)\n",
      "('Second element:', 7)\n",
      "('Second last element:', 22)\n"
     ]
    }
   ],
   "source": [
    "import array as arr  \n",
    "x = arr.array('i', [4, 7, 19, 22])  \n",
    "print(\"First element:\", x[0])  \n",
    "print(\"Second element:\", x[1])  \n",
    "print(\"Second last element:\", x[-1])  "
   ]
  },
  {
   "cell_type": "code",
   "execution_count": 52,
   "metadata": {},
   "outputs": [
    {
     "name": "stdout",
     "output_type": "stream",
     "text": [
      "Ford\n",
      "Volvo\n",
      "BMW\n"
     ]
    }
   ],
   "source": [
    "cars = [\"Ford\", \"Volvo\", \"BMW\"]\n",
    "\n",
    "for x in cars:\n",
    "  print(x)\n"
   ]
  },
  {
   "cell_type": "code",
   "execution_count": null,
   "metadata": {},
   "outputs": [],
   "source": []
  },
  {
   "cell_type": "code",
   "execution_count": null,
   "metadata": {},
   "outputs": [],
   "source": []
  },
  {
   "cell_type": "code",
   "execution_count": null,
   "metadata": {},
   "outputs": [],
   "source": []
  },
  {
   "cell_type": "code",
   "execution_count": null,
   "metadata": {},
   "outputs": [],
   "source": []
  },
  {
   "cell_type": "code",
   "execution_count": null,
   "metadata": {},
   "outputs": [],
   "source": []
  }
 ],
 "metadata": {
  "kernelspec": {
   "display_name": "Python 2",
   "language": "python",
   "name": "python2"
  },
  "language_info": {
   "codemirror_mode": {
    "name": "ipython",
    "version": 2
   },
   "file_extension": ".py",
   "mimetype": "text/x-python",
   "name": "python",
   "nbconvert_exporter": "python",
   "pygments_lexer": "ipython2",
   "version": "2.7.16"
  }
 },
 "nbformat": 4,
 "nbformat_minor": 2
}
